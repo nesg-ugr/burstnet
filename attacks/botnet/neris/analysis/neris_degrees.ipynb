{
 "cells": [
  {
   "cell_type": "markdown",
   "metadata": {},
   "source": [
    "## Neris botnet traffic generation graph analysis\n",
    "The CSV files are exporter from gephi datalabs after computing statistis about degrees."
   ]
  },
  {
   "cell_type": "code",
   "execution_count": 2,
   "metadata": {},
   "outputs": [],
   "source": [
    "import pandas as pd\n",
    "import numpy as np\n",
    "import os\n",
    "from matplotlib import pyplot as plt \n",
    "import seaborn as sns\n",
    "#from tqdm.auto import tqdm\n"
   ]
  },
  {
   "cell_type": "code",
   "execution_count": 3,
   "metadata": {},
   "outputs": [],
   "source": [
    "# Root data path\n",
    "root_path = \".\""
   ]
  },
  {
   "cell_type": "code",
   "execution_count": 4,
   "metadata": {},
   "outputs": [],
   "source": [
    "# Palette\n",
    "colores={\"naranja\":\"#ff7f0e\",\"verde\":\"#2ca02c\",\"azul\":\"#1f77b4\"}\n",
    "paleta={\"nsl-kdd\":colores[\"verde\"],\"unsw-nb15\":colores[\"naranja\"],\"ugr16\":colores[\"azul\"]}\n",
    "\n",
    "# fondict for axis labels\n",
    "font_labels = {'family' : 'arial',\n",
    "        'weight' : 'normal',\n",
    "        'size'   : 26}\n",
    "# fondict for title labels\n",
    "font_title = {'family' : 'arial',\n",
    "        'weight' : 'bold',\n",
    "        'size'   : 24}\n",
    "# fontsize for tickso\n",
    "ticks_fontsize=20\n",
    "\n",
    "# legend fontsize\n",
    "legend_fontsize=15\n",
    "\n",
    "# img path\n",
    "img_path = \"./img/\"\n",
    "\n",
    "# Linewidth and markersize\n",
    "lw=5\n",
    "ms=100\n",
    "marcadores={\"nsl-kdd\":\"v\",\"unsw-nb15\":\"o\",\"ugr16\":\"X\"}"
   ]
  },
  {
   "cell_type": "markdown",
   "metadata": {},
   "source": [
    "### Neris raw"
   ]
  },
  {
   "cell_type": "code",
   "execution_count": 16,
   "metadata": {},
   "outputs": [],
   "source": [
    "# FaaC\n",
    "nerisraw = pd.read_csv('neris_raw_degrees.csv')"
   ]
  },
  {
   "cell_type": "code",
   "execution_count": 17,
   "metadata": {},
   "outputs": [
    {
     "data": {
      "text/html": [
       "<div>\n",
       "<style scoped>\n",
       "    .dataframe tbody tr th:only-of-type {\n",
       "        vertical-align: middle;\n",
       "    }\n",
       "\n",
       "    .dataframe tbody tr th {\n",
       "        vertical-align: top;\n",
       "    }\n",
       "\n",
       "    .dataframe thead th {\n",
       "        text-align: right;\n",
       "    }\n",
       "</style>\n",
       "<table border=\"1\" class=\"dataframe\">\n",
       "  <thead>\n",
       "    <tr style=\"text-align: right;\">\n",
       "      <th></th>\n",
       "      <th>timeset</th>\n",
       "      <th>indegree</th>\n",
       "      <th>outdegree</th>\n",
       "      <th>Degree</th>\n",
       "      <th>weighted indegree</th>\n",
       "      <th>weighted outdegree</th>\n",
       "      <th>Weighted Degree</th>\n",
       "    </tr>\n",
       "  </thead>\n",
       "  <tbody>\n",
       "    <tr>\n",
       "      <th>count</th>\n",
       "      <td>0.0</td>\n",
       "      <td>1574.000000</td>\n",
       "      <td>1574.000000</td>\n",
       "      <td>1574.000000</td>\n",
       "      <td>1574.000000</td>\n",
       "      <td>1574.000000</td>\n",
       "      <td>1574.000000</td>\n",
       "    </tr>\n",
       "    <tr>\n",
       "      <th>mean</th>\n",
       "      <td>NaN</td>\n",
       "      <td>8.307497</td>\n",
       "      <td>8.307497</td>\n",
       "      <td>16.614994</td>\n",
       "      <td>26.540661</td>\n",
       "      <td>26.540661</td>\n",
       "      <td>53.081321</td>\n",
       "    </tr>\n",
       "    <tr>\n",
       "      <th>std</th>\n",
       "      <td>NaN</td>\n",
       "      <td>22.642544</td>\n",
       "      <td>51.604806</td>\n",
       "      <td>73.576435</td>\n",
       "      <td>494.607544</td>\n",
       "      <td>496.111164</td>\n",
       "      <td>990.635442</td>\n",
       "    </tr>\n",
       "    <tr>\n",
       "      <th>min</th>\n",
       "      <td>NaN</td>\n",
       "      <td>0.000000</td>\n",
       "      <td>0.000000</td>\n",
       "      <td>1.000000</td>\n",
       "      <td>0.000000</td>\n",
       "      <td>0.000000</td>\n",
       "      <td>0.000000</td>\n",
       "    </tr>\n",
       "    <tr>\n",
       "      <th>25%</th>\n",
       "      <td>NaN</td>\n",
       "      <td>0.000000</td>\n",
       "      <td>0.000000</td>\n",
       "      <td>2.000000</td>\n",
       "      <td>0.000000</td>\n",
       "      <td>0.000000</td>\n",
       "      <td>0.000000</td>\n",
       "    </tr>\n",
       "    <tr>\n",
       "      <th>50%</th>\n",
       "      <td>NaN</td>\n",
       "      <td>6.000000</td>\n",
       "      <td>1.000000</td>\n",
       "      <td>7.000000</td>\n",
       "      <td>0.000000</td>\n",
       "      <td>0.000000</td>\n",
       "      <td>0.000000</td>\n",
       "    </tr>\n",
       "    <tr>\n",
       "      <th>75%</th>\n",
       "      <td>NaN</td>\n",
       "      <td>9.000000</td>\n",
       "      <td>5.000000</td>\n",
       "      <td>13.000000</td>\n",
       "      <td>0.000000</td>\n",
       "      <td>0.000000</td>\n",
       "      <td>0.000000</td>\n",
       "    </tr>\n",
       "    <tr>\n",
       "      <th>max</th>\n",
       "      <td>NaN</td>\n",
       "      <td>314.000000</td>\n",
       "      <td>618.000000</td>\n",
       "      <td>932.000000</td>\n",
       "      <td>19052.000000</td>\n",
       "      <td>19116.000000</td>\n",
       "      <td>38168.000000</td>\n",
       "    </tr>\n",
       "  </tbody>\n",
       "</table>\n",
       "</div>"
      ],
      "text/plain": [
       "       timeset     indegree    outdegree       Degree  weighted indegree  \\\n",
       "count      0.0  1574.000000  1574.000000  1574.000000        1574.000000   \n",
       "mean       NaN     8.307497     8.307497    16.614994          26.540661   \n",
       "std        NaN    22.642544    51.604806    73.576435         494.607544   \n",
       "min        NaN     0.000000     0.000000     1.000000           0.000000   \n",
       "25%        NaN     0.000000     0.000000     2.000000           0.000000   \n",
       "50%        NaN     6.000000     1.000000     7.000000           0.000000   \n",
       "75%        NaN     9.000000     5.000000    13.000000           0.000000   \n",
       "max        NaN   314.000000   618.000000   932.000000       19052.000000   \n",
       "\n",
       "       weighted outdegree  Weighted Degree  \n",
       "count         1574.000000      1574.000000  \n",
       "mean            26.540661        53.081321  \n",
       "std            496.111164       990.635442  \n",
       "min              0.000000         0.000000  \n",
       "25%              0.000000         0.000000  \n",
       "50%              0.000000         0.000000  \n",
       "75%              0.000000         0.000000  \n",
       "max          19116.000000     38168.000000  "
      ]
     },
     "execution_count": 17,
     "metadata": {},
     "output_type": "execute_result"
    }
   ],
   "source": [
    "nerisraw.describe()"
   ]
  },
  {
   "cell_type": "markdown",
   "metadata": {},
   "source": [
    "### Neris vae"
   ]
  },
  {
   "cell_type": "code",
   "execution_count": 18,
   "metadata": {},
   "outputs": [],
   "source": [
    "# FaaC\n",
    "nerisvae = pd.read_csv('neris_vae_degrees.csv')"
   ]
  },
  {
   "cell_type": "code",
   "execution_count": 20,
   "metadata": {},
   "outputs": [
    {
     "data": {
      "text/plain": [
       "2.630081300813008"
      ]
     },
     "execution_count": 20,
     "metadata": {},
     "output_type": "execute_result"
    }
   ],
   "source": [
    "nerisvae.indegree.mean()"
   ]
  }
 ],
 "metadata": {
  "kernelspec": {
   "display_name": "attackclass",
   "language": "python",
   "name": "attackclass"
  },
  "language_info": {
   "codemirror_mode": {
    "name": "ipython",
    "version": 3
   },
   "file_extension": ".py",
   "mimetype": "text/x-python",
   "name": "python",
   "nbconvert_exporter": "python",
   "pygments_lexer": "ipython3",
   "version": "3.6.8"
  }
 },
 "nbformat": 4,
 "nbformat_minor": 2
}
